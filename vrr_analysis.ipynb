{
 "cells": [
  {
   "cell_type": "code",
   "execution_count": 1,
   "id": "4dab59b6",
   "metadata": {},
   "outputs": [],
   "source": [
    "import torch\n",
    "import numpy as np\n",
    "from scipy import special\n",
    "import matplotlib.pyplot as plt\n",
    "import tqdm\n",
    "\n",
    "from torch.utils.cpp_extension import load\n",
    "\n",
    "global conv2d_op \n",
    "conv2d_op = load(name='conv2d', sources=['models/modules/kernels/conv2d_cuda.cpp', 'models/modules/kernels/conv2d_cuda_kernel.cu'])\n",
    "\n",
    "def calc_bit_mask(n):\n",
    "    if n <= 0:\n",
    "        return -(2**(-n))\n",
    "    else:\n",
    "        return -(2**(23-n))"
   ]
  },
  {
   "cell_type": "code",
   "execution_count": 2,
   "id": "8bf37c9e",
   "metadata": {},
   "outputs": [],
   "source": [
    "def Q(x):\n",
    "    return 0.5 - 0.5*special.erf(x/np.sqrt(2))\n",
    "\n",
    "def qi(macc, i):\n",
    "    return 2*Q(2**macc / np.sqrt(i))*(1 - 2*Q(2**macc / np.sqrt(i-1)))\n",
    "    \n",
    "def alpha_jr(macc, mp, jr):\n",
    "    tmp = 2**(macc - 3*mp)/3\n",
    "    J2 = [(2**j) for j in range(1,jr)]\n",
    "    return tmp*np.sum([ jj * (jj- 1)*(2*jj-1)  for jj in J2])\n",
    "\n",
    "def alpha(macc, mp):\n",
    "    return alpha_jr(macc, mp, mp+1)\n",
    "\n",
    "def qjr(macc, mp, n, jr):\n",
    "    N = 2**(macc -mp + jr) ## N_{jr-1}\n",
    "    return N*2*Q(2**(macc-mp + jr - 1)/ np.sqrt(n))*(1-2*Q(2**(macc-mp+jr)/(np.sqrt(n))))\n",
    "\n",
    "def k1(macc, mp, n):\n",
    "    a = alpha(macc,mp)\n",
    "    return np.sum([qi(macc,i)  for i in range(2,n) if i>a])\n",
    "\n",
    "def k2(macc, mp, n):\n",
    "    return np.sum([qjr(macc,mp, n, jr)  for jr in range(2,mp+1) if n > alpha_jr(macc,mp,jr)])\n",
    "\n",
    "def k3(macc, mp, n):\n",
    "    return 1 - 2*Q(2**(macc - mp + 1)/ np.sqrt(n))\n",
    "\n",
    "def kfunc(macc, mp, n):\n",
    "    return k1(macc, mp,n) + k2(macc, mp,n) + k3(macc, mp,n)\n",
    "\n",
    "def relu(x):\n",
    "    if x > 0:\n",
    "        return x\n",
    "    else:\n",
    "        return 0\n",
    "\n",
    "def VRR(macc, mp, n, chunks = 1):\n",
    "    \n",
    "    if chunks > 1:\n",
    "        assert(n % chunks == 0)\n",
    "        n1 = chunks\n",
    "        n2 = n / chunks\n",
    "        return VRR(macc, mp, n1)* VRR(macc, min(macc, mp + int(np.log(chunks) /np.log(2))) , n2) \n",
    "    \n",
    "    k3_ = k3(macc, mp, n)\n",
    "    k = kfunc(macc, mp, n)\n",
    "    a = alpha(macc, mp)\n",
    "    \n",
    "    tmp1 = np.sum([(i-a)*qi(macc,i) for i in range(2,n) if i > a] )\n",
    "    tmp2 = np.sum([relu(n- alpha_jr(macc, mp, jr)) * qjr(macc,mp,n , jr)  for jr in range(2,mp+1)] )\n",
    "    \n",
    "    return (tmp1 + tmp2 + n*k3_)/ (n*k)\n",
    "    "
   ]
  },
  {
   "cell_type": "code",
   "execution_count": 3,
   "id": "c1414f4d-348e-4129-b069-511a8ff3cf37",
   "metadata": {},
   "outputs": [
    {
     "name": "stderr",
     "output_type": "stream",
     "text": [
      "100%|██████████| 200/200 [00:06<00:00, 32.70it/s]\n",
      "/home/yaniv/anaconda3/envs/pytorch/lib/python3.6/site-packages/ipykernel_launcher.py:15: RuntimeWarning: overflow encountered in exp\n",
      "  from ipykernel import kernelapp as app\n",
      "100%|██████████| 200/200 [00:05<00:00, 33.95it/s]\n",
      "/home/yaniv/anaconda3/envs/pytorch/lib/python3.6/site-packages/ipykernel_launcher.py:15: RuntimeWarning: overflow encountered in exp\n",
      "  from ipykernel import kernelapp as app\n",
      "100%|██████████| 200/200 [00:06<00:00, 33.07it/s]\n",
      "/home/yaniv/anaconda3/envs/pytorch/lib/python3.6/site-packages/ipykernel_launcher.py:15: RuntimeWarning: overflow encountered in exp\n",
      "  from ipykernel import kernelapp as app\n",
      "100%|██████████| 200/200 [00:06<00:00, 32.85it/s] \n",
      "/home/yaniv/anaconda3/envs/pytorch/lib/python3.6/site-packages/ipykernel_launcher.py:15: RuntimeWarning: overflow encountered in exp\n",
      "  from ipykernel import kernelapp as app\n"
     ]
    },
    {
     "data": {
      "text/plain": [
       "<matplotlib.legend.Legend at 0x7f270b19df60>"
      ]
     },
     "execution_count": 3,
     "metadata": {},
     "output_type": "execute_result"
    },
    {
     "data": {
      "image/png": "[encoded data removed]",
      "text/plain": [
       "<Figure size 432x288 with 1 Axes>"
      ]
     },
     "metadata": {
      "needs_background": "light"
     },
     "output_type": "display_data"
    }
   ],
   "source": [
    "tot = 200\n",
    "mp =5\n",
    "results = {}\n",
    "##X = [int(i) for i in np.logspace(1,6,tot)]\n",
    "X = [int(i) for i in np.logspace(1,4,tot)]\n",
    "\n",
    "#maccs = [4,5,6,7,8,9,10,11,12,13,14,15,16]\n",
    "maccs = [4,5,6,7]\n",
    "\n",
    "for macc in maccs:\n",
    "    vrr = np.zeros(tot)\n",
    "    for i,x in tqdm.tqdm(enumerate(X), total = tot ):\n",
    "        vrr[i] =  VRR(macc, mp, x)\n",
    "\n",
    "    plt.semilogx(X,np.exp(X*(1-vrr)), label = \"$m_{acc} = %d$\" % macc)\n",
    "\n",
    "    results[macc] = vrr.copy()\n",
    "    \n",
    "plt.ylim([0,1000])\n",
    "plt.legend()\n"
   ]
  },
  {
   "cell_type": "code",
   "execution_count": 3,
   "id": "c615121b",
   "metadata": {},
   "outputs": [
    {
     "ename": "NameError",
     "evalue": "name 'maccs' is not defined",
     "output_type": "error",
     "traceback": [
      "\u001b[0;31m---------------------------------------------------------------------------\u001b[0m",
      "\u001b[0;31mNameError\u001b[0m                                 Traceback (most recent call last)",
      "\u001b[0;32m<ipython-input-3-8ba0c532e5c2>\u001b[0m in \u001b[0;36m<module>\u001b[0;34m\u001b[0m\n\u001b[0;32m----> 1\u001b[0;31m \u001b[0mmaccs\u001b[0m\u001b[0;34m.\u001b[0m\u001b[0mreverse\u001b[0m\u001b[0;34m(\u001b[0m\u001b[0;34m)\u001b[0m\u001b[0;34m\u001b[0m\u001b[0;34m\u001b[0m\u001b[0m\n\u001b[0m\u001b[1;32m      2\u001b[0m \u001b[0;34m\u001b[0m\u001b[0m\n\u001b[1;32m      3\u001b[0m \u001b[0mbest_macc\u001b[0m \u001b[0;34m=\u001b[0m \u001b[0mnp\u001b[0m\u001b[0;34m.\u001b[0m\u001b[0mzeros\u001b[0m\u001b[0;34m(\u001b[0m\u001b[0mtot\u001b[0m\u001b[0;34m,\u001b[0m \u001b[0mdtype\u001b[0m\u001b[0;34m=\u001b[0m\u001b[0mint\u001b[0m\u001b[0;34m)\u001b[0m\u001b[0;34m\u001b[0m\u001b[0;34m\u001b[0m\u001b[0m\n\u001b[1;32m      4\u001b[0m \u001b[0;32mfor\u001b[0m \u001b[0mi\u001b[0m\u001b[0;34m,\u001b[0m\u001b[0mx\u001b[0m  \u001b[0;32min\u001b[0m \u001b[0menumerate\u001b[0m\u001b[0;34m(\u001b[0m\u001b[0mX\u001b[0m\u001b[0;34m)\u001b[0m\u001b[0;34m:\u001b[0m\u001b[0;34m\u001b[0m\u001b[0;34m\u001b[0m\u001b[0m\n\u001b[1;32m      5\u001b[0m     \u001b[0;32mfor\u001b[0m \u001b[0mmacc\u001b[0m \u001b[0;32min\u001b[0m \u001b[0mmaccs\u001b[0m\u001b[0;34m:\u001b[0m\u001b[0;34m\u001b[0m\u001b[0;34m\u001b[0m\u001b[0m\n",
      "\u001b[0;31mNameError\u001b[0m: name 'maccs' is not defined"
     ]
    }
   ],
   "source": [
    "maccs.reverse()\n",
    "\n",
    "best_macc = np.zeros(tot, dtype=int)\n",
    "for i,x  in enumerate(X):\n",
    "    for macc in maccs:\n",
    "        if results[macc][i] > 1- 4/x:\n",
    "            best_macc[i] = macc        \n",
    "        \n",
    "maccs.reverse()\n"
   ]
  },
  {
   "cell_type": "code",
   "execution_count": 5,
   "id": "eaf490fc",
   "metadata": {},
   "outputs": [
    {
     "data": {
      "text/plain": [
       "Text(0, 0.5, 'mantisa bits required')"
      ]
     },
     "execution_count": 5,
     "metadata": {},
     "output_type": "execute_result"
    },
    {
     "data": {
      "image/png": "[encoded data removed]",
      "text/plain": [
       "<Figure size 432x288 with 1 Axes>"
      ]
     },
     "metadata": {
      "needs_background": "light"
     },
     "output_type": "display_data"
    }
   ],
   "source": [
    "plt.semilogx(X, best_macc)\n",
    "plt.grid()\n",
    "plt.xlabel(\"accumulation width\")\n",
    "plt.ylabel(\"mantisa bits required\")\n"
   ]
  },
  {
   "cell_type": "code",
   "execution_count": 92,
   "id": "18b0ca41-cf1e-49d4-8d6a-0d0ece900987",
   "metadata": {},
   "outputs": [
    {
     "name": "stdout",
     "output_type": "stream",
     "text": [
      "tensor([[-0.6206,  1.2851,  1.1877],\n",
      "        [ 0.1930, -0.3293, -0.4535],\n",
      "        [-0.2562,  1.5353,  2.4231],\n",
      "        [ 0.1469,  2.3733, -1.3126],\n",
      "        [-0.3464,  0.8493,  0.2689]])\n",
      "tensor([[-0.6201,  1.2842,  1.1875],\n",
      "        [ 0.1929, -0.3291, -0.4534],\n",
      "        [-0.2561,  1.5352,  2.4219],\n",
      "        [ 0.1469,  2.3730, -1.3125],\n",
      "        [-0.3462,  0.8491,  0.2688]], device='cuda:0')\n"
     ]
    }
   ],
   "source": [
    "A = torch.randn([5,3])\n",
    "print(A)\n",
    "Amasked = conv2d_op.bitmask(A.cuda(), calc_bit_mask(10) , 1)\n",
    "print(Amasked)\n"
   ]
  },
  {
   "cell_type": "code",
   "execution_count": 3,
   "id": "d277b188",
   "metadata": {},
   "outputs": [],
   "source": [
    "\n",
    "\n",
    "def sim_VRR(macc, mp, n, N=1000):\n",
    "    iters = int((N*n+200000-1)/200000)\n",
    "    j = 0\n",
    "    \n",
    "    accumulator_macc = torch.zeros([N], dtype = torch.float).cuda()\n",
    "    accumulator_full = torch.zeros([N], dtype = torch.float).cuda()\n",
    "    \n",
    "    bitmask_mp = calc_bit_mask(mp)\n",
    "    bitmask_macc = calc_bit_mask(macc)\n",
    "    \n",
    "    \n",
    "    \n",
    "    per_iter = int(N/iters)\n",
    "    for j in range(iters):\n",
    "        s = j*per_iter\n",
    "        e = min((j+1)*per_iter, N)\n",
    "        cnt = e-s\n",
    "        \n",
    "        rand_vec = torch.randn([cnt,n], dtype = torch.float).cuda()\n",
    "        rand_vec = conv2d_op.bitmask(rand_vec, bitmask_mp, 1)\n",
    "\n",
    "        for i in range(n):\n",
    "            accumulator_full[s:e] = accumulator_full[s:e] + rand_vec[:,i]\n",
    "            accumulator_macc[s:e] = accumulator_macc[s:e] + rand_vec[:,i]\n",
    "            accumulator_macc[s:e] = conv2d_op.bitmask(accumulator_macc[s:e].unsqueeze(1), bitmask_macc, 1).squeeze()\n",
    "\n",
    "    Var_swamping = accumulator_macc.std()\n",
    "    Var = accumulator_full.std()\n",
    "    \n",
    "    \n",
    "    \n",
    "    ##print(accumulator_macc)\n",
    "    ##print(accumulator_full)\n",
    "\n",
    "    vrr = (Var_swamping**2/Var**2).cpu()\n",
    "    return vrr\n",
    "        \n",
    "    "
   ]
  },
  {
   "cell_type": "code",
   "execution_count": 4,
   "id": "fa9839e2-74b1-460f-9e37-d489d94f671a",
   "metadata": {},
   "outputs": [
    {
     "ename": "RuntimeError",
     "evalue": "CUDA error: an illegal instruction was encountered",
     "output_type": "error",
     "traceback": [
      "\u001b[0;31m---------------------------------------------------------------------------\u001b[0m",
      "\u001b[0;31mRuntimeError\u001b[0m                              Traceback (most recent call last)",
      "\u001b[0;32m<timed exec>\u001b[0m in \u001b[0;36m<module>\u001b[0;34m\u001b[0m\n",
      "\u001b[0;32m<ipython-input-3-2fda298dcb46>\u001b[0m in \u001b[0;36msim_VRR\u001b[0;34m(macc, mp, n, N)\u001b[0m\n\u001b[1;32m     33\u001b[0m     \u001b[0;31m##print(accumulator_full)\u001b[0m\u001b[0;34m\u001b[0m\u001b[0;34m\u001b[0m\u001b[0;34m\u001b[0m\u001b[0m\n\u001b[1;32m     34\u001b[0m \u001b[0;34m\u001b[0m\u001b[0m\n\u001b[0;32m---> 35\u001b[0;31m     \u001b[0mvrr\u001b[0m \u001b[0;34m=\u001b[0m \u001b[0;34m(\u001b[0m\u001b[0mVar_swamping\u001b[0m\u001b[0;34m**\u001b[0m\u001b[0;36m2\u001b[0m\u001b[0;34m/\u001b[0m\u001b[0mVar\u001b[0m\u001b[0;34m**\u001b[0m\u001b[0;36m2\u001b[0m\u001b[0;34m)\u001b[0m\u001b[0;34m.\u001b[0m\u001b[0mcpu\u001b[0m\u001b[0;34m(\u001b[0m\u001b[0;34m)\u001b[0m\u001b[0;34m\u001b[0m\u001b[0;34m\u001b[0m\u001b[0m\n\u001b[0m\u001b[1;32m     36\u001b[0m     \u001b[0;32mreturn\u001b[0m \u001b[0mvrr\u001b[0m\u001b[0;34m\u001b[0m\u001b[0;34m\u001b[0m\u001b[0m\n\u001b[1;32m     37\u001b[0m \u001b[0;34m\u001b[0m\u001b[0m\n",
      "\u001b[0;31mRuntimeError\u001b[0m: CUDA error: an illegal instruction was encountered"
     ]
    }
   ],
   "source": [
    "%%time\n",
    "macc = 6\n",
    "mp = 23\n",
    "n = 1024*32\n",
    "\n",
    "simvrr = sim_VRR(macc,mp,n)\n",
    "vrr = VRR(macc+1,mp,n)\n",
    "print(f\"simvrr = {simvrr}\")\n",
    "print(f\"sim_v(n) = {np.exp(n*(1-simvrr))}\")\n",
    "print(f\"vrr = {vrr}\")\n",
    "print(f\"v(n) = {np.exp(n*(1-vrr))}\")"
   ]
  },
  {
   "cell_type": "code",
   "execution_count": 48,
   "id": "256c8b34-3cd3-48f9-b33f-1c9f339107c7",
   "metadata": {},
   "outputs": [
    {
     "data": {
      "text/plain": [
       "1.007622924377645"
      ]
     },
     "execution_count": 48,
     "metadata": {},
     "output_type": "execute_result"
    }
   ],
   "source": [
    "np.exp(n*(1-vrr))"
   ]
  },
  {
   "cell_type": "code",
   "execution_count": null,
   "id": "dda74931-a733-47ad-9b16-8f06bffc2a57",
   "metadata": {},
   "outputs": [],
   "source": []
  },
  {
   "cell_type": "code",
   "execution_count": null,
   "id": "37424962-3b12-48cb-9fff-3e75ca4d54ed",
   "metadata": {},
   "outputs": [],
   "source": []
  }
 ],
 "metadata": {
  "kernelspec": {
   "display_name": "Python 3",
   "language": "python",
   "name": "python3"
  },
  "language_info": {
   "codemirror_mode": {
    "name": "ipython",
    "version": 3
   },
   "file_extension": ".py",
   "mimetype": "text/x-python",
   "name": "python",
   "nbconvert_exporter": "python",
   "pygments_lexer": "ipython3",
   "version": "3.6.13"
  }
 },
 "nbformat": 4,
 "nbformat_minor": 5
}
